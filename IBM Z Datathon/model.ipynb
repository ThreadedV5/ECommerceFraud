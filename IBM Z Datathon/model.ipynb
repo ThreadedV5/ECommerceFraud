{
 "cells": [
  {
   "cell_type": "code",
   "execution_count": 1,
   "id": "fb9a3db5-dcd5-42b8-b8e8-b1b0d7782295",
   "metadata": {},
   "outputs": [],
   "source": [
    "import pandas as pd\n",
    "import matplotlib.pyplot as plt\n",
    "\n",
    "# Load dataset\n",
    "df = pd.read_csv(\"Fraudulent_E-Commerce_Transaction_Data.csv\")\n",
    "#print(df.head())"
   ]
  },
  {
   "cell_type": "code",
   "execution_count": 2,
   "id": "bcda3e1e-2319-4a33-af68-aa3fe193f7db",
   "metadata": {},
   "outputs": [],
   "source": [
    "# pre processing\n",
    "df = df.drop(columns=[\"Transaction ID\",\"Customer ID\",\"Billing Address\",\"Transaction Date\",\"IP Address\"])\n",
    "df = df.dropna()\n",
    "\n",
    "from sklearn.utils import resample\n",
    "# split data\n",
    "df_no_fraud = df.loc[(df['Is Fraudulent']==0)]\n",
    "#print(len(df_no_fraud.axes[0]))\n",
    "df_fraud = df.loc[(df['Is Fraudulent']==1)]\n",
    "#print(len(df_fraud.axes[0]))\n",
    "\n",
    "# downsample the data set\n",
    "df_no_fraud_downsampled = resample(df_no_fraud, replace=False, n_samples=10000, random_state=420 )\n",
    "df_fraud_downsampled = resample(df_fraud, replace=False, n_samples=10000, random_state=20 )\n",
    "\n",
    "#check ouput\n",
    "#print(len(df_no_fraud_downsampled))\n",
    "#print(len(df_fraud_downsampled))\n",
    "\n",
    "# merge the data sets\n",
    "df_downsample = pd.concat([df_no_fraud_downsampled, df_fraud_downsampled ])\n",
    "df_downsample.shape\n",
    "\n",
    "X_encoded = pd.get_dummies(data=df_downsample, columns=[\"Transaction Amount\", \"Payment Method\", \"Product Category\", \"Quantity\",\n",
    "                                            \"Customer Age\", \"Customer Location\", \"Device Used\",\"Shipping Address\",\n",
    "                                            \"Account Age Days\", \"Transaction Hour\"])\n",
    "#, \"Transaction Date\", \"IP Address\" columns removed\n",
    "#X_encoded.head()"
   ]
  },
  {
   "cell_type": "code",
   "execution_count": 3,
   "id": "7121afc8-de35-4ffb-af9c-1375caa72d2d",
   "metadata": {},
   "outputs": [],
   "source": [
    "from sklearn.preprocessing import scale\n",
    "from sklearn.model_selection import train_test_split\n",
    "y = df_downsample['Is Fraudulent'].copy()\n",
    "X_train, X_test, y_train, y_test = train_test_split(X_encoded, y, test_size=0.3, random_state=69)"
   ]
  },
  {
   "cell_type": "code",
   "execution_count": null,
   "id": "a27c0352-e414-4c2e-bd05-6a8b3a919f8c",
   "metadata": {},
   "outputs": [],
   "source": [
    "from sklearn.metrics import ConfusionMatrixDisplay\n",
    "from sklearn.metrics import accuracy_score\n",
    "from sklearn.ensemble import RandomForestClassifier\n",
    "\n",
    "clf_rf = RandomForestClassifier(max_depth=2, random_state=0)\n",
    "clf_rf.fit(X_train, y_train)"
   ]
  },
  {
   "cell_type": "code",
   "execution_count": null,
   "id": "411aca7c-5234-446f-a0d8-3c43dbdcc2a4",
   "metadata": {},
   "outputs": [],
   "source": [
    "#calculate overall accuracy\n",
    "y_pred = clf_rf.predict(X_test)\n",
    "accuracy = accuracy_score(y_test, y_pred)\n",
    "print(f'Accuracy: {accuracy:.2%}')"
   ]
  },
  {
   "cell_type": "code",
   "execution_count": null,
   "id": "6b9b8db6-8bbc-4790-83cf-dbc479bd86ee",
   "metadata": {},
   "outputs": [],
   "source": [
    "class_names = ['Not Fraud', 'Fraud']\n",
    "disp = ConfusionMatrixDisplay.from_estimator(\n",
    "        clf_rf,\n",
    "        X_test,\n",
    "        y_test,\n",
    "        display_labels=class_names,\n",
    "        cmap=plt.cm.Blues)\n",
    "plt.show()"
   ]
  },
  {
   "cell_type": "code",
   "execution_count": null,
   "id": "d86c21e8-6e58-4ea0-9b38-07865c80c6c4",
   "metadata": {},
   "outputs": [],
   "source": []
  }
 ],
 "metadata": {
  "kernelspec": {
   "display_name": "Python 3 (ipykernel)",
   "language": "python",
   "name": "python3"
  },
  "language_info": {
   "codemirror_mode": {
    "name": "ipython",
    "version": 3
   },
   "file_extension": ".py",
   "mimetype": "text/x-python",
   "name": "python",
   "nbconvert_exporter": "python",
   "pygments_lexer": "ipython3",
   "version": "3.10.12"
  }
 },
 "nbformat": 4,
 "nbformat_minor": 5
}
